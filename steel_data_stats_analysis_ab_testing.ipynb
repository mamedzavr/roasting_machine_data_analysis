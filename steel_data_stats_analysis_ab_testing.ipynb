{
 "cells": [
  {
   "cell_type": "markdown",
   "metadata": {},
   "source": [
    "## Задание 1\n",
    "\n",
    "Сотрудник службы оценки качества продукции заметил, что число бракованных листов стали в партии для стали марки A больше, чем для стали марки B. Также он обратил внимание, что при средней скорости прокатки более 4 м/с число бракованных листов больше. В соответствии с этими наблюдениями, предлагается снизить скорость прокатки и ввести дополнительные меры контроля качества для стали марки A.\n",
    "\n",
    "Обоснуйте, что:\n",
    "- Более 3 бракованных листов на партию выходит значимо чаще для стали марки А, чем для стали марки B.\n",
    "- При скоростях прокатки более 4 м/с свыше 3 бракованных листов стали на партию выходит значимо чаще, чем при меньших скоростях прокатки. \n",
    "\n",
    "Данные, необходимые для анализа, содержатся в файле «Статистика за 2018 год». Количество листов стали в каждой партии предполагается одинаковым. "
   ]
  },
  {
   "cell_type": "markdown",
   "metadata": {},
   "source": [
    "**Импортируем библиотеки**"
   ]
  },
  {
   "cell_type": "code",
   "execution_count": 1,
   "metadata": {},
   "outputs": [],
   "source": [
    "import pandas as pd\n",
    "import numpy as np\n",
    "import matplotlib.pyplot as plt\n",
    "import seaborn as sns\n",
    "from scipy import stats\n",
    "from statsmodels.stats.proportion import proportion_confint\n",
    "from sklearn.metrics import matthews_corrcoef\n",
    "\n",
    "import warnings\n",
    "warnings.filterwarnings('ignore')\n",
    "%matplotlib inline"
   ]
  },
  {
   "cell_type": "markdown",
   "metadata": {},
   "source": [
    "- matthewsr - коэффициент корреляции Мэтьюса\n",
    "- proportions_diff_confint_ind - доверительный интервал для разности долей\n",
    "- proportions_diff_z_stat_ind - z-статистика для расчета p-value\n",
    "- proportions_diff_z_test - p-value для проверки гипотезы о разности двух долей"
   ]
  },
  {
   "cell_type": "code",
   "execution_count": 2,
   "metadata": {},
   "outputs": [],
   "source": [
    "def proportions_diff_confint_ind(count_A, len_A, count_B, len_B, alpha = 0.05):    \n",
    "    z = stats.norm.ppf(1 - alpha / 2.)\n",
    "    p1 = count_A / len_A\n",
    "    p2 = count_B / len_B\n",
    "    left_boundary = (p1 - p2) - z * np.sqrt(p1 * (1 - p1)/ len_A + p2 * (1 - p2)/ len_B)\n",
    "    right_boundary = (p1 - p2) + z * np.sqrt(p1 * (1 - p1)/ len_A + p2 * (1 - p2)/ len_B)\n",
    "    return (left_boundary, right_boundary)\n",
    "\n",
    "def proportions_diff_z_stat_ind(count_A, len_A, count_B, len_B):\n",
    "    p1 = count_A / len_A\n",
    "    p2 = count_B / len_B \n",
    "    P = float(p1*len_A + p2*len_B) / (len_A + len_B)  \n",
    "    return (p1 - p2) / np.sqrt(P * (1 - P) * (1. / len_A + 1. / len_B))\n",
    "\n",
    "\n",
    "def proportions_diff_z_test(z_stat, alternative = 'two-sided'):\n",
    "    if alternative not in ('two-sided', 'less', 'greater'):\n",
    "        raise ValueError(\"alternative not recognized\\n\"\n",
    "                         \"should be 'two-sided', 'less' or 'greater'\")\n",
    "    if alternative == 'two-sided':\n",
    "        return 2 * (1 - stats.norm.cdf(np.abs(z_stat)))\n",
    "    if alternative == 'less':\n",
    "        return stats.norm.cdf(z_stat)\n",
    "    if alternative == 'greater':\n",
    "        return 1 - stats.norm.cdf(z_stat)"
   ]
  },
  {
   "cell_type": "markdown",
   "metadata": {},
   "source": [
    "Читаем данные"
   ]
  },
  {
   "cell_type": "code",
   "execution_count": 3,
   "metadata": {},
   "outputs": [
    {
     "name": "stdout",
     "output_type": "stream",
     "text": [
      "(237, 3)\n"
     ]
    },
    {
     "data": {
      "text/html": [
       "<div>\n",
       "<style scoped>\n",
       "    .dataframe tbody tr th:only-of-type {\n",
       "        vertical-align: middle;\n",
       "    }\n",
       "\n",
       "    .dataframe tbody tr th {\n",
       "        vertical-align: top;\n",
       "    }\n",
       "\n",
       "    .dataframe thead th {\n",
       "        text-align: right;\n",
       "    }\n",
       "</style>\n",
       "<table border=\"1\" class=\"dataframe\">\n",
       "  <thead>\n",
       "    <tr style=\"text-align: right;\">\n",
       "      <th></th>\n",
       "      <th>fault_num</th>\n",
       "      <th>rolling_speed</th>\n",
       "      <th>steel_mark</th>\n",
       "    </tr>\n",
       "  </thead>\n",
       "  <tbody>\n",
       "    <tr>\n",
       "      <th>0</th>\n",
       "      <td>3</td>\n",
       "      <td>3.8</td>\n",
       "      <td>A</td>\n",
       "    </tr>\n",
       "    <tr>\n",
       "      <th>1</th>\n",
       "      <td>3</td>\n",
       "      <td>3.8</td>\n",
       "      <td>B</td>\n",
       "    </tr>\n",
       "    <tr>\n",
       "      <th>2</th>\n",
       "      <td>3</td>\n",
       "      <td>4.8</td>\n",
       "      <td>B</td>\n",
       "    </tr>\n",
       "    <tr>\n",
       "      <th>3</th>\n",
       "      <td>4</td>\n",
       "      <td>4.4</td>\n",
       "      <td>B</td>\n",
       "    </tr>\n",
       "    <tr>\n",
       "      <th>4</th>\n",
       "      <td>6</td>\n",
       "      <td>5.0</td>\n",
       "      <td>B</td>\n",
       "    </tr>\n",
       "    <tr>\n",
       "      <th>5</th>\n",
       "      <td>5</td>\n",
       "      <td>4.4</td>\n",
       "      <td>B</td>\n",
       "    </tr>\n",
       "    <tr>\n",
       "      <th>6</th>\n",
       "      <td>3</td>\n",
       "      <td>4.0</td>\n",
       "      <td>A</td>\n",
       "    </tr>\n",
       "    <tr>\n",
       "      <th>7</th>\n",
       "      <td>2</td>\n",
       "      <td>5.4</td>\n",
       "      <td>B</td>\n",
       "    </tr>\n",
       "    <tr>\n",
       "      <th>8</th>\n",
       "      <td>1</td>\n",
       "      <td>4.6</td>\n",
       "      <td>A</td>\n",
       "    </tr>\n",
       "    <tr>\n",
       "      <th>9</th>\n",
       "      <td>3</td>\n",
       "      <td>4.7</td>\n",
       "      <td>A</td>\n",
       "    </tr>\n",
       "  </tbody>\n",
       "</table>\n",
       "</div>"
      ],
      "text/plain": [
       "   fault_num  rolling_speed steel_mark\n",
       "0          3            3.8          A\n",
       "1          3            3.8          B\n",
       "2          3            4.8          B\n",
       "3          4            4.4          B\n",
       "4          6            5.0          B\n",
       "5          5            4.4          B\n",
       "6          3            4.0          A\n",
       "7          2            5.4          B\n",
       "8          1            4.6          A\n",
       "9          3            4.7          A"
      ]
     },
     "execution_count": 3,
     "metadata": {},
     "output_type": "execute_result"
    }
   ],
   "source": [
    "df = pd.read_csv('Статистика за 2018 год.csv', names=['fault_num', 'rolling_speed', 'steel_mark'])\n",
    "print(df.shape)\n",
    "df.head(10)"
   ]
  },
  {
   "cell_type": "markdown",
   "metadata": {},
   "source": [
    "Создаем три дополнительные бинарные колонки:\n",
    "- Больше трех бракованных листов в партии\n",
    "- Скорость прокатки более 4 м/c\n",
    "- Сталь марки А"
   ]
  },
  {
   "cell_type": "code",
   "execution_count": 4,
   "metadata": {},
   "outputs": [
    {
     "data": {
      "text/html": [
       "<div>\n",
       "<style scoped>\n",
       "    .dataframe tbody tr th:only-of-type {\n",
       "        vertical-align: middle;\n",
       "    }\n",
       "\n",
       "    .dataframe tbody tr th {\n",
       "        vertical-align: top;\n",
       "    }\n",
       "\n",
       "    .dataframe thead th {\n",
       "        text-align: right;\n",
       "    }\n",
       "</style>\n",
       "<table border=\"1\" class=\"dataframe\">\n",
       "  <thead>\n",
       "    <tr style=\"text-align: right;\">\n",
       "      <th></th>\n",
       "      <th>fault_num</th>\n",
       "      <th>rolling_speed</th>\n",
       "      <th>steel_mark</th>\n",
       "      <th>fault_num_more_3</th>\n",
       "      <th>speed_more_4</th>\n",
       "      <th>is_A_steel_mark</th>\n",
       "    </tr>\n",
       "  </thead>\n",
       "  <tbody>\n",
       "    <tr>\n",
       "      <th>0</th>\n",
       "      <td>3</td>\n",
       "      <td>3.8</td>\n",
       "      <td>A</td>\n",
       "      <td>0</td>\n",
       "      <td>0</td>\n",
       "      <td>1</td>\n",
       "    </tr>\n",
       "    <tr>\n",
       "      <th>1</th>\n",
       "      <td>3</td>\n",
       "      <td>3.8</td>\n",
       "      <td>B</td>\n",
       "      <td>0</td>\n",
       "      <td>0</td>\n",
       "      <td>0</td>\n",
       "    </tr>\n",
       "    <tr>\n",
       "      <th>2</th>\n",
       "      <td>3</td>\n",
       "      <td>4.8</td>\n",
       "      <td>B</td>\n",
       "      <td>0</td>\n",
       "      <td>1</td>\n",
       "      <td>0</td>\n",
       "    </tr>\n",
       "    <tr>\n",
       "      <th>3</th>\n",
       "      <td>4</td>\n",
       "      <td>4.4</td>\n",
       "      <td>B</td>\n",
       "      <td>1</td>\n",
       "      <td>1</td>\n",
       "      <td>0</td>\n",
       "    </tr>\n",
       "    <tr>\n",
       "      <th>4</th>\n",
       "      <td>6</td>\n",
       "      <td>5.0</td>\n",
       "      <td>B</td>\n",
       "      <td>1</td>\n",
       "      <td>1</td>\n",
       "      <td>0</td>\n",
       "    </tr>\n",
       "    <tr>\n",
       "      <th>...</th>\n",
       "      <td>...</td>\n",
       "      <td>...</td>\n",
       "      <td>...</td>\n",
       "      <td>...</td>\n",
       "      <td>...</td>\n",
       "      <td>...</td>\n",
       "    </tr>\n",
       "    <tr>\n",
       "      <th>232</th>\n",
       "      <td>1</td>\n",
       "      <td>4.7</td>\n",
       "      <td>A</td>\n",
       "      <td>0</td>\n",
       "      <td>1</td>\n",
       "      <td>1</td>\n",
       "    </tr>\n",
       "    <tr>\n",
       "      <th>233</th>\n",
       "      <td>3</td>\n",
       "      <td>3.4</td>\n",
       "      <td>A</td>\n",
       "      <td>0</td>\n",
       "      <td>0</td>\n",
       "      <td>1</td>\n",
       "    </tr>\n",
       "    <tr>\n",
       "      <th>234</th>\n",
       "      <td>2</td>\n",
       "      <td>5.5</td>\n",
       "      <td>A</td>\n",
       "      <td>0</td>\n",
       "      <td>1</td>\n",
       "      <td>1</td>\n",
       "    </tr>\n",
       "    <tr>\n",
       "      <th>235</th>\n",
       "      <td>3</td>\n",
       "      <td>5.0</td>\n",
       "      <td>B</td>\n",
       "      <td>0</td>\n",
       "      <td>1</td>\n",
       "      <td>0</td>\n",
       "    </tr>\n",
       "    <tr>\n",
       "      <th>236</th>\n",
       "      <td>5</td>\n",
       "      <td>4.7</td>\n",
       "      <td>A</td>\n",
       "      <td>1</td>\n",
       "      <td>1</td>\n",
       "      <td>1</td>\n",
       "    </tr>\n",
       "  </tbody>\n",
       "</table>\n",
       "<p>237 rows × 6 columns</p>\n",
       "</div>"
      ],
      "text/plain": [
       "     fault_num  rolling_speed steel_mark  fault_num_more_3  speed_more_4  \\\n",
       "0            3            3.8          A                 0             0   \n",
       "1            3            3.8          B                 0             0   \n",
       "2            3            4.8          B                 0             1   \n",
       "3            4            4.4          B                 1             1   \n",
       "4            6            5.0          B                 1             1   \n",
       "..         ...            ...        ...               ...           ...   \n",
       "232          1            4.7          A                 0             1   \n",
       "233          3            3.4          A                 0             0   \n",
       "234          2            5.5          A                 0             1   \n",
       "235          3            5.0          B                 0             1   \n",
       "236          5            4.7          A                 1             1   \n",
       "\n",
       "     is_A_steel_mark  \n",
       "0                  1  \n",
       "1                  0  \n",
       "2                  0  \n",
       "3                  0  \n",
       "4                  0  \n",
       "..               ...  \n",
       "232                1  \n",
       "233                1  \n",
       "234                1  \n",
       "235                0  \n",
       "236                1  \n",
       "\n",
       "[237 rows x 6 columns]"
      ]
     },
     "execution_count": 4,
     "metadata": {},
     "output_type": "execute_result"
    }
   ],
   "source": [
    "df['fault_num_more_3'] = (df['fault_num'] > 3).map({True: 1, False: 0})\n",
    "df['speed_more_4'] = (df['rolling_speed'] > 4).map({True: 1, False: 0})\n",
    "df['is_A_steel_mark'] = df['steel_mark'].map({'A': 1, 'B': 0})\n",
    "df"
   ]
  },
  {
   "cell_type": "markdown",
   "metadata": {},
   "source": [
    "Околонулевой коэффициент корреляции Мэтьюса между бинарными переменными говорит нам о том, что прямой связи между ними нет"
   ]
  },
  {
   "cell_type": "code",
   "execution_count": 5,
   "metadata": {},
   "outputs": [
    {
     "name": "stdout",
     "output_type": "stream",
     "text": [
      "Корреляция Мэтьюса между > 3 браками в партии и маркой стали:  -0.067789213955027\n",
      "Корреляция Мэтьюса между > 3 браками в партии и скоростью прокатки > 4:  0.014738308791024087\n"
     ]
    }
   ],
   "source": [
    "print('Корреляция Мэтьюса между > 3 браками в партии и маркой стали: ', \\\n",
    "      matthews_corrcoef(df['fault_num_more_3'], df['is_A_steel_mark']))\n",
    "print('Корреляция Мэтьюса между > 3 браками в партии и скоростью прокатки > 4: ', \\\n",
    "      matthews_corrcoef(df['fault_num_more_3'], df['speed_more_4']))"
   ]
  },
  {
   "cell_type": "code",
   "execution_count": 6,
   "metadata": {},
   "outputs": [
    {
     "data": {
      "text/html": [
       "<div>\n",
       "<style scoped>\n",
       "    .dataframe tbody tr th:only-of-type {\n",
       "        vertical-align: middle;\n",
       "    }\n",
       "\n",
       "    .dataframe tbody tr th {\n",
       "        vertical-align: top;\n",
       "    }\n",
       "\n",
       "    .dataframe thead th {\n",
       "        text-align: right;\n",
       "    }\n",
       "</style>\n",
       "<table border=\"1\" class=\"dataframe\">\n",
       "  <thead>\n",
       "    <tr style=\"text-align: right;\">\n",
       "      <th></th>\n",
       "      <th>fault_num</th>\n",
       "      <th>rolling_speed</th>\n",
       "      <th>fault_num_more_3</th>\n",
       "      <th>speed_more_4</th>\n",
       "      <th>is_A_steel_mark</th>\n",
       "    </tr>\n",
       "  </thead>\n",
       "  <tbody>\n",
       "    <tr>\n",
       "      <th>count</th>\n",
       "      <td>237.000000</td>\n",
       "      <td>237.000000</td>\n",
       "      <td>237.000000</td>\n",
       "      <td>237.000000</td>\n",
       "      <td>237.000000</td>\n",
       "    </tr>\n",
       "    <tr>\n",
       "      <th>mean</th>\n",
       "      <td>3.257384</td>\n",
       "      <td>4.509705</td>\n",
       "      <td>0.409283</td>\n",
       "      <td>0.755274</td>\n",
       "      <td>0.586498</td>\n",
       "    </tr>\n",
       "    <tr>\n",
       "      <th>std</th>\n",
       "      <td>1.807821</td>\n",
       "      <td>0.696260</td>\n",
       "      <td>0.492742</td>\n",
       "      <td>0.430834</td>\n",
       "      <td>0.493504</td>\n",
       "    </tr>\n",
       "    <tr>\n",
       "      <th>min</th>\n",
       "      <td>0.000000</td>\n",
       "      <td>2.500000</td>\n",
       "      <td>0.000000</td>\n",
       "      <td>0.000000</td>\n",
       "      <td>0.000000</td>\n",
       "    </tr>\n",
       "    <tr>\n",
       "      <th>25%</th>\n",
       "      <td>2.000000</td>\n",
       "      <td>4.100000</td>\n",
       "      <td>0.000000</td>\n",
       "      <td>1.000000</td>\n",
       "      <td>0.000000</td>\n",
       "    </tr>\n",
       "    <tr>\n",
       "      <th>50%</th>\n",
       "      <td>3.000000</td>\n",
       "      <td>4.600000</td>\n",
       "      <td>0.000000</td>\n",
       "      <td>1.000000</td>\n",
       "      <td>1.000000</td>\n",
       "    </tr>\n",
       "    <tr>\n",
       "      <th>75%</th>\n",
       "      <td>4.000000</td>\n",
       "      <td>5.000000</td>\n",
       "      <td>1.000000</td>\n",
       "      <td>1.000000</td>\n",
       "      <td>1.000000</td>\n",
       "    </tr>\n",
       "    <tr>\n",
       "      <th>max</th>\n",
       "      <td>8.000000</td>\n",
       "      <td>6.500000</td>\n",
       "      <td>1.000000</td>\n",
       "      <td>1.000000</td>\n",
       "      <td>1.000000</td>\n",
       "    </tr>\n",
       "  </tbody>\n",
       "</table>\n",
       "</div>"
      ],
      "text/plain": [
       "        fault_num  rolling_speed  fault_num_more_3  speed_more_4  \\\n",
       "count  237.000000     237.000000        237.000000    237.000000   \n",
       "mean     3.257384       4.509705          0.409283      0.755274   \n",
       "std      1.807821       0.696260          0.492742      0.430834   \n",
       "min      0.000000       2.500000          0.000000      0.000000   \n",
       "25%      2.000000       4.100000          0.000000      1.000000   \n",
       "50%      3.000000       4.600000          0.000000      1.000000   \n",
       "75%      4.000000       5.000000          1.000000      1.000000   \n",
       "max      8.000000       6.500000          1.000000      1.000000   \n",
       "\n",
       "       is_A_steel_mark  \n",
       "count       237.000000  \n",
       "mean          0.586498  \n",
       "std           0.493504  \n",
       "min           0.000000  \n",
       "25%           0.000000  \n",
       "50%           1.000000  \n",
       "75%           1.000000  \n",
       "max           1.000000  "
      ]
     },
     "execution_count": 6,
     "metadata": {},
     "output_type": "execute_result"
    }
   ],
   "source": [
    "df.describe()"
   ]
  },
  {
   "cell_type": "markdown",
   "metadata": {},
   "source": [
    "Как видим, у марки стали А больше партий с количеством брака > 3 (логично, ведь самих объектов класса А тоже больше)"
   ]
  },
  {
   "cell_type": "code",
   "execution_count": 7,
   "metadata": {},
   "outputs": [
    {
     "data": {
      "image/png": "[encoded data removed]",
      "text/plain": [
       "<Figure size 576x504 with 1 Axes>"
      ]
     },
     "metadata": {
      "needs_background": "light"
     },
     "output_type": "display_data"
    }
   ],
   "source": [
    "plt.figure(figsize=(8,7))\n",
    "sns.countplot(data=df, x='fault_num_more_3', hue='steel_mark')\n",
    "plt.title('Разрез по маркам стали в количестве случаев брака > 3')\n",
    "plt.show()"
   ]
  },
  {
   "cell_type": "code",
   "execution_count": 8,
   "metadata": {},
   "outputs": [
    {
     "data": {
      "image/png": "[encoded data removed]",
      "text/plain": [
       "<Figure size 638.875x576 with 6 Axes>"
      ]
     },
     "metadata": {
      "needs_background": "light"
     },
     "output_type": "display_data"
    }
   ],
   "source": [
    "sns.pairplot(df[['fault_num', 'rolling_speed', 'steel_mark']], hue='steel_mark', size=4)\n",
    "plt.show()"
   ]
  },
  {
   "cell_type": "code",
   "execution_count": 9,
   "metadata": {},
   "outputs": [
    {
     "data": {
      "image/png": "[encoded data removed]",
      "text/plain": [
       "<Figure size 1080x360 with 2 Axes>"
      ]
     },
     "metadata": {
      "needs_background": "light"
     },
     "output_type": "display_data"
    }
   ],
   "source": [
    "fig, ax = plt.subplots(1,2, figsize=(15, 5))\n",
    "sns.distplot(df[df['steel_mark'] == 'A']['fault_num'], bins=8, ax=ax[0], axlabel='шкала количества брака')\n",
    "sns.distplot(df[df['steel_mark'] == 'B']['fault_num'], bins=8, ax=ax[1], axlabel='шкала количества брака')\n",
    "ax[0].set_title('Распределение брака в стали А')\n",
    "ax[1].set_title('Распределение брака в стали B')\n",
    "plt.show()"
   ]
  },
  {
   "cell_type": "markdown",
   "metadata": {},
   "source": [
    "По этому графику мы можем сказать следующее: типичное количество брака ~3, типичная скорость прокатки для такого брака ~4.7"
   ]
  },
  {
   "cell_type": "code",
   "execution_count": 10,
   "metadata": {},
   "outputs": [
    {
     "data": {
      "image/png": "[encoded data removed]",
      "text/plain": [
       "<Figure size 432x432 with 3 Axes>"
      ]
     },
     "metadata": {
      "needs_background": "light"
     },
     "output_type": "display_data"
    }
   ],
   "source": [
    "sns.jointplot('rolling_speed','fault_num',df, kind='kde')\n",
    "plt.show()"
   ]
  },
  {
   "cell_type": "markdown",
   "metadata": {},
   "source": [
    "Нормированная и НЕнормированная гистограммы распределений количества брака по маркам стали. Похоже, что в стали марки B больше случаев количества брака > 3 на партию, чем в А"
   ]
  },
  {
   "cell_type": "code",
   "execution_count": 11,
   "metadata": {},
   "outputs": [
    {
     "data": {
      "image/png": "[encoded data removed]",
      "text/plain": [
       "<Figure size 864x360 with 2 Axes>"
      ]
     },
     "metadata": {
      "needs_background": "light"
     },
     "output_type": "display_data"
    }
   ],
   "source": [
    "fig, ax = plt.subplots(1,2, figsize=(12,5))\n",
    "ax[0].hist(df[df['steel_mark'] == 'A']['fault_num'], bins=8, alpha = 0.8, color= 'r', normed=True, label='A')\n",
    "ax[0].hist(df[df['steel_mark'] == 'B']['fault_num'], bins=8, alpha = 0.8, color= 'b', normed=True, label='B')\n",
    "ax[1].hist(df[df['steel_mark'] == 'A']['fault_num'], bins=8, alpha = 0.8, color= 'r', label='A')\n",
    "ax[1].hist(df[df['steel_mark'] == 'B']['fault_num'], bins=8, alpha = 0.8, color= 'b', label='B')\n",
    "ax[0].set_title('Normed dists')\n",
    "ax[0].legend()\n",
    "ax[0].grid()\n",
    "ax[1].set_title('UNnormed dists')\n",
    "ax[1].legend()\n",
    "ax[1].grid()\n",
    "plt.show()"
   ]
  },
  {
   "cell_type": "markdown",
   "metadata": {},
   "source": [
    "Выведем несколько описательных статистик о наших данных, чтобы лучше понимать их структуру"
   ]
  },
  {
   "cell_type": "code",
   "execution_count": 12,
   "metadata": {},
   "outputs": [
    {
     "name": "stdout",
     "output_type": "stream",
     "text": [
      "Доля количества партий с количеством брака > 3 всей генеральной совокупности = 0.4092827004219409\n",
      "Среднее количество брака генеральной совокупности = 3.257383966244726\n",
      "\n",
      "Количество партий стали класса А = 139\n",
      "Количество партий стали класса А c количеством брака > 3 = 53\n",
      "Доля количества партий с уровнем брака > 3 класса А = 0.381294964028777\n",
      "Доля количества партий с уровнем брака > 3 при скорости прокатки > 4 = 0.4134078212290503\n",
      "Доля количества брака > 3 в общем браке стали класса A = 0.6131221719457014\n",
      "Среднее количество брака в партии стали класса А = 3.179856115107914\n",
      "Среднее количество брака > 3 в партии стали класса А = 5.113207547169812\n",
      "\n",
      "Количество партий стали класса B = 98\n",
      "Количество партий стали класса B c количеством брака > 3 = 44\n",
      "Доля количества партий с уровнем брака > 3 класса B = 0.4489795918367347\n",
      "Доля количества партий с уровнем брака > 3 при скорости прокатки <= 4 = 0.39655172413793105\n",
      "Доля количества брака > 3 в общем браке стали класса B = 0.6515151515151515\n",
      "Среднее количество брака в партии стали класса B = 3.36734693877551\n",
      "Среднее количество брака > 3 в партии стали класса B = 4.886363636363637\n"
     ]
    }
   ],
   "source": [
    "print('Доля количества партий с количеством брака > 3 всей генеральной совокупности =', \\\n",
    "      df[df['fault_num'] > 3].shape[0] / df.shape[0])\n",
    "print('Среднее количество брака генеральной совокупности =', df['fault_num'].mean())\n",
    "\n",
    "print()\n",
    "\n",
    "print('Количество партий стали класса А =', df[df['steel_mark'] == 'A'].shape[0])\n",
    "print('Количество партий стали класса А c количеством брака > 3 =', \\\n",
    "      df[(df['steel_mark'] == 'A') & (df['fault_num'] > 3)].shape[0])\n",
    "print('Доля количества партий с уровнем брака > 3 класса А =', \\\n",
    "      df[(df['steel_mark'] == 'A') & (df['fault_num'] > 3)].shape[0] / \\\n",
    "      df[df['steel_mark'] == 'A'].shape[0])\n",
    "print('Доля количества партий с уровнем брака > 3 при скорости прокатки > 4 =', \\\n",
    "      df[(df['rolling_speed'] > 4.0) & (df['fault_num'] > 3)]['fault_num'].shape[0] / \\\n",
    "      df[df['rolling_speed'] > 4.0].shape[0])\n",
    "print('Доля количества брака > 3 в общем браке стали класса A =', \\\n",
    "      df[(df['steel_mark'] == 'A') & (df['fault_num'] > 3)]['fault_num'].sum() / \\\n",
    "      df[df['steel_mark'] == 'A']['fault_num'].sum())\n",
    "print('Среднее количество брака в партии стали класса А =', df[df['steel_mark'] == 'A']['fault_num'].mean())\n",
    "print('Среднее количество брака > 3 в партии стали класса А =', \\\n",
    "      df[(df['steel_mark'] == 'A') & (df['fault_num'] > 3)]['fault_num'].mean())\n",
    "\n",
    "\n",
    "print()\n",
    "\n",
    "print('Количество партий стали класса B =', df[df['steel_mark'] == 'B'].shape[0])\n",
    "print('Количество партий стали класса B c количеством брака > 3 =', \\\n",
    "      df[(df['steel_mark'] == 'B') & (df['fault_num'] > 3)].shape[0])\n",
    "print('Доля количества партий с уровнем брака > 3 класса B =', \\\n",
    "      df[(df['steel_mark'] == 'B') & (df['fault_num'] > 3)].shape[0] / \\\n",
    "      df[df['steel_mark'] == 'B'].shape[0])\n",
    "print('Доля количества партий с уровнем брака > 3 при скорости прокатки <= 4 =', \\\n",
    "      df[(df['rolling_speed'] <= 4.0) & (df['fault_num'] > 3)]['fault_num'].shape[0] / \\\n",
    "      df[df['rolling_speed'] <= 4.0].shape[0])\n",
    "print('Доля количества брака > 3 в общем браке стали класса B =', \\\n",
    "      df[(df['steel_mark'] == 'B') & (df['fault_num'] > 3)]['fault_num'].sum() / \\\n",
    "      df[df['steel_mark'] == 'B']['fault_num'].sum())\n",
    "print('Среднее количество брака в партии стали класса B =', df[df['steel_mark'] == 'B']['fault_num'].mean())\n",
    "print('Среднее количество брака > 3 в партии стали класса B =', \\\n",
    "      df[(df['steel_mark'] == 'B') & (df['fault_num'] > 3)]['fault_num'].mean())\n"
   ]
  },
  {
   "cell_type": "markdown",
   "metadata": {},
   "source": [
    "### Часть 1"
   ]
  },
  {
   "cell_type": "markdown",
   "metadata": {},
   "source": [
    "Построим доверительные интервалы для долей. А то есть: в каких диапазонах может лежать вероятность того, что количество брака в партии будет > 3 (для каждой марки стали). Как видим, доверительные интервалы для долей, посчитанные из нормального распределения (как и методом Вилсона) пересекаются, поэтому сделать вывод о том, что в партиях стали класса А чаще можно увидеть количество брака > 3, чем стали класса B пока что нельзя"
   ]
  },
  {
   "cell_type": "code",
   "execution_count": 13,
   "metadata": {},
   "outputs": [
    {
     "name": "stdout",
     "output_type": "stream",
     "text": [
      "Steel class A partition normal interval [0.300550, 0.462039] with width [0.161489]\n",
      "Steel class B partition normal interval [0.350503, 0.547456] with width [0.196953]\n",
      "\n",
      "Steel class A partition Wilson interval [0.304772, 0.464203] with width [0.159431]\n",
      "Steel class B partition Wilson interval [0.354284, 0.547525] with width [0.193241]\n"
     ]
    }
   ],
   "source": [
    "count_A = 53\n",
    "len_A = 139\n",
    "count_B = 44\n",
    "len_B = 98\n",
    "\n",
    "normal_interval_A = proportion_confint(count_A, len_A, method = 'normal')\n",
    "normal_interval_B = proportion_confint(count_B, len_B, method = 'normal')\n",
    "wilson_interval_A = proportion_confint(count_A, len_A, method = 'wilson')\n",
    "wilson_interval_B = proportion_confint(count_B, len_B, method = 'wilson')\n",
    "\n",
    "print('Steel class A partition normal interval [%f, %f] with width [%f]' % (normal_interval_A[0],\n",
    "                                                  normal_interval_A[1], \n",
    "                                                  normal_interval_A[1] - normal_interval_A[0]))\n",
    "print('Steel class B partition normal interval [%f, %f] with width [%f]' % (normal_interval_B[0],\n",
    "                                                  normal_interval_B[1], \n",
    "                                                  normal_interval_B[1] - normal_interval_B[0]))\n",
    "print()\n",
    "print('Steel class A partition Wilson interval [%f, %f] with width [%f]' % (wilson_interval_A[0],\n",
    "                                                  wilson_interval_A[1], \n",
    "                                                  wilson_interval_A[1] - wilson_interval_A[0]))\n",
    "print('Steel class B partition Wilson interval [%f, %f] with width [%f]' % (wilson_interval_B[0],\n",
    "                                                  wilson_interval_B[1], \n",
    "                                                  wilson_interval_B[1] - wilson_interval_B[0]))"
   ]
  },
  {
   "cell_type": "markdown",
   "metadata": {},
   "source": [
    "Построим доверительный интервал для разности долей. Видим, что 0 входит в него, поэтому однозначно сказать что-то по поводу разницы в частоте попадания количества брака > 3 в партию стали в разрезе классов мы пока что не можем. Но видим большее смещение влево. Отюсда, наоборот, можно сделать предположение, что в марке стали А брака как раз таки в среднем меньше"
   ]
  },
  {
   "cell_type": "code",
   "execution_count": 14,
   "metadata": {},
   "outputs": [
    {
     "name": "stdout",
     "output_type": "stream",
     "text": [
      "95% confidence interval for a difference of class A and class B: [-0.1950, 0.0597]\n"
     ]
    }
   ],
   "source": [
    "print('95%% confidence interval for a difference of class A and class B: [%.4f, %.4f]' %\n",
    "      proportions_diff_confint_ind(count_A, len_A, count_B, len_B))"
   ]
  },
  {
   "cell_type": "markdown",
   "metadata": {},
   "source": [
    "На уровне значимости 0.15 можно опровергнуть гипотезу о том, что в марке стали А частота появления партий с количеством брака > 3 такая же, как у стали марки B, в пользу левосторонней альтернативы, что в марке стали А данного вида брака меньше, чем в марке стали B."
   ]
  },
  {
   "cell_type": "code",
   "execution_count": 15,
   "metadata": {},
   "outputs": [
    {
     "name": "stdout",
     "output_type": "stream",
     "text": [
      "A diff B p-value for two-sided: 0.296670\n",
      "A less B p-value for less: 0.148335\n",
      "A greater B p-value for greater: 0.851665\n"
     ]
    }
   ],
   "source": [
    "print(\"A diff B p-value for two-sided: %f\" % proportions_diff_z_test(proportions_diff_z_stat_ind(count_A, len_A, count_B, len_B)))\n",
    "print(\"A less B p-value for less: %f\" % proportions_diff_z_test(proportions_diff_z_stat_ind(count_A, len_A, count_B, len_B), 'less'))\n",
    "print(\"A greater B p-value for greater: %f\" % proportions_diff_z_test(proportions_diff_z_stat_ind(count_A, len_A, count_B, len_B), 'greater'))"
   ]
  },
  {
   "cell_type": "markdown",
   "metadata": {},
   "source": [
    "### Часть 2"
   ]
  },
  {
   "cell_type": "markdown",
   "metadata": {},
   "source": [
    "По нормированному графику совершенно невозможно понять, влияет ли как-то скорость прокатки > 4 м/с на количество брака > 3 в партиях стали"
   ]
  },
  {
   "cell_type": "code",
   "execution_count": 16,
   "metadata": {},
   "outputs": [
    {
     "data": {
      "image/png": "[encoded data removed]",
      "text/plain": [
       "<Figure size 864x360 with 2 Axes>"
      ]
     },
     "metadata": {
      "needs_background": "light"
     },
     "output_type": "display_data"
    }
   ],
   "source": [
    "fig, ax = plt.subplots(1,2, figsize=(12,5))\n",
    "ax[0].hist(df[df['rolling_speed'] > 4]['fault_num'], \\\n",
    "           bins=8, alpha = 0.7, color= 'r', normed=True, label='speed > 4')\n",
    "ax[0].hist(df[df['rolling_speed'] <= 4]['fault_num'], \\\n",
    "           bins=8, alpha = 0.7, color= 'b', normed=True, label='speed <= 4')\n",
    "ax[1].hist(df[df['rolling_speed'] > 4]['fault_num'], \\\n",
    "           bins=8, alpha = 0.7, color= 'r', label='speed > 4')\n",
    "ax[1].hist(df[df['rolling_speed'] <= 4]['fault_num'], \\\n",
    "           bins=8, alpha = 0.7, color= 'b', label='speed <= 4')\n",
    "ax[0].set_title('Normed dists')\n",
    "ax[0].legend()\n",
    "ax[0].grid()\n",
    "ax[1].set_title('UNnormed dists')\n",
    "ax[1].legend()\n",
    "ax[1].grid()\n",
    "plt.show()"
   ]
  },
  {
   "cell_type": "markdown",
   "metadata": {},
   "source": [
    "Построим доверительные интервалы для долей. А то есть: в каких диапазонах может лежать вероятность того, что количество брака в партии будет > 3 при прокатке со скоростью выше/ниже 4 м/c. Как видим, доверительные интервалы получились мало того, что широкие, так еще пересекающиеся в большом интервале"
   ]
  },
  {
   "cell_type": "code",
   "execution_count": 17,
   "metadata": {},
   "outputs": [
    {
     "name": "stdout",
     "output_type": "stream",
     "text": [
      "Speed > 4 partition normal interval [0.341267, 0.485548] with width [0.144281]\n",
      "Speed <= 4 partition normal interval [0.270658, 0.522445] with width [0.251787]\n",
      "\n",
      "Speed > 4 partition wilson interval [0.343825, 0.486629] with width [0.142804]\n",
      "Speed <= 4 partition wilson interval [0.280888, 0.525068] with width [0.244180]\n"
     ]
    }
   ],
   "source": [
    "count_speed_more_4 = 74\n",
    "len_speed_more_4 = 179\n",
    "count_speed_less_4 = 23\n",
    "len_speed_less_4 = 58\n",
    "\n",
    "# count_speed_more_4, len_speed_more_4, count_speed_less_4, len_speed_less_4\n",
    "\n",
    "normal_interval_A = proportion_confint(count_speed_more_4, len_speed_more_4, method = 'normal')\n",
    "normal_interval_B = proportion_confint(count_speed_less_4, len_speed_less_4, method = 'normal')\n",
    "wilson_interval_A = proportion_confint(count_speed_more_4, len_speed_more_4, method = 'wilson')\n",
    "wilson_interval_B = proportion_confint(count_speed_less_4, len_speed_less_4, method = 'wilson')\n",
    "\n",
    "print('Speed > 4 partition normal interval [%f, %f] with width [%f]' % (normal_interval_A[0],\n",
    "                                                  normal_interval_A[1], \n",
    "                                                  normal_interval_A[1] - normal_interval_A[0]))\n",
    "print('Speed <= 4 partition normal interval [%f, %f] with width [%f]' % (normal_interval_B[0],\n",
    "                                                  normal_interval_B[1], \n",
    "                                                  normal_interval_B[1] - normal_interval_B[0]))\n",
    "print()\n",
    "print('Speed > 4 partition wilson interval [%f, %f] with width [%f]' % (wilson_interval_A[0],\n",
    "                                                  wilson_interval_A[1], \n",
    "                                                  wilson_interval_A[1] - wilson_interval_A[0]))\n",
    "print('Speed <= 4 partition wilson interval [%f, %f] with width [%f]' % (wilson_interval_B[0],\n",
    "                                                  wilson_interval_B[1], \n",
    "                                                  wilson_interval_B[1] - wilson_interval_B[0]))"
   ]
  },
  {
   "cell_type": "markdown",
   "metadata": {},
   "source": [
    "Построим доверительный интервал для разности долей. Ноль входит в него, более того, он получился даже практически симметричным около него"
   ]
  },
  {
   "cell_type": "code",
   "execution_count": 18,
   "metadata": {},
   "outputs": [
    {
     "name": "stdout",
     "output_type": "stream",
     "text": [
      "95% confidence interval for a difference of speed > 4 and speed <= 4: [-0.1282, 0.1620]\n"
     ]
    }
   ],
   "source": [
    "print('95%% confidence interval for a difference of speed > 4 and speed <= 4: [%.4f, %.4f]' %\n",
    "      proportions_diff_confint_ind(count_speed_more_4, len_speed_more_4, count_speed_less_4, len_speed_less_4))"
   ]
  },
  {
   "cell_type": "markdown",
   "metadata": {},
   "source": [
    "p-value получился большим с какой стороны ни подойди. О чем это нам говорит:\n",
    "- во-первых, опровергнуть гипотезу о разности двух долей мы не можем\n",
    "- во-вторых, подтвердить гипотезу о влиянии скорости проката стали на количество брака > 3 в партии мы тоже не можем\n",
    "- в-третьих, скорее всего скорость прокатки незначимо влияет на количество брака > 3 в партии, но! Однозначный вывод сделать можно было бы при больших размерах выборки. Тех данных, которые у нас есть, недостаточно"
   ]
  },
  {
   "cell_type": "code",
   "execution_count": 19,
   "metadata": {},
   "outputs": [
    {
     "name": "stdout",
     "output_type": "stream",
     "text": [
      "p-value for two-sided: 0.820507\n",
      "p-value for less: 0.589747\n",
      "p-value for greater: 0.410253\n"
     ]
    }
   ],
   "source": [
    "print(\"p-value for two-sided: %f\" % proportions_diff_z_test(proportions_diff_z_stat_ind(count_speed_more_4, len_speed_more_4, count_speed_less_4, len_speed_less_4)))\n",
    "print(\"p-value for less: %f\" % proportions_diff_z_test(proportions_diff_z_stat_ind(count_speed_more_4, len_speed_more_4, count_speed_less_4, len_speed_less_4), 'less'))\n",
    "print(\"p-value for greater: %f\" % proportions_diff_z_test(proportions_diff_z_stat_ind(count_speed_more_4, len_speed_more_4, count_speed_less_4, len_speed_less_4), 'greater'))"
   ]
  },
  {
   "cell_type": "markdown",
   "metadata": {},
   "source": [
    "## Спасибо за внимание!"
   ]
  }
 ],
 "metadata": {
  "kernelspec": {
   "display_name": "Python 3",
   "language": "python",
   "name": "python3"
  },
  "language_info": {
   "codemirror_mode": {
    "name": "ipython",
    "version": 3
   },
   "file_extension": ".py",
   "mimetype": "text/x-python",
   "name": "python",
   "nbconvert_exporter": "python",
   "pygments_lexer": "ipython3",
   "version": "3.7.7"
  }
 },
 "nbformat": 4,
 "nbformat_minor": 4
}
